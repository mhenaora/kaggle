{
  "nbformat": 4,
  "nbformat_minor": 0,
  "metadata": {
    "colab": {
      "provenance": []
    },
    "kernelspec": {
      "name": "python3",
      "display_name": "Python 3"
    },
    "language_info": {
      "name": "python"
    }
  },
  "cells": [
    {
      "cell_type": "markdown",
      "source": [
        "<img src=\"https://pbs.twimg.com/profile_images/1611426355022815232/kowpnoLD_400x400.jpg\" width=\"30%\">"
      ],
      "metadata": {
        "id": "QQVS1LxPmLts"
      }
    },
    {
      "cell_type": "markdown",
      "source": [
        "# ReconoserID Reto de Programación"
      ],
      "metadata": {
        "id": "Bi0Hk-Q3mkes"
      }
    },
    {
      "cell_type": "markdown",
      "source": [
        "Bienvenido al desafío de programación de ReconoserID. Este reto está diseñado para mostrar sus habilidades de programación, tales como el manejo de conjuntos de datos no estructurados, manipulación y procesamiento de imagenes, y lo más importante; la aplicación de técnicas de aprendizaje automático.\n",
        "\n",
        "Para este reto, te recomendamos que utilices la versión 3.9.x o superiores de python y que desarrolles todos los pasos en este notebook para que podamos revisar adecuadamente tus resultados paso a paso."
      ],
      "metadata": {
        "id": "-1IxfE-am0XS"
      }
    },
    {
      "cell_type": "markdown",
      "source": [
        "El reto consiste en diseñar y programar paso a paso el procedimiento que se debe llevar a cabo, para realizar un modelo capaz de identificar y recortar de forma precisa un documento, tal cual, como se muestra en la siguiente figura.\n",
        "\n",
        "<img src=\"https://github.com/fcakyon/midv500/blob/master/figures/midv500.png?raw=true\" width=\"70%\">"
      ],
      "metadata": {
        "id": "ExABnD9LrsCN"
      }
    },
    {
      "cell_type": "markdown",
      "source": [
        "# 1. Importar dataset"
      ],
      "metadata": {
        "id": "xAmRxW4EoDlj"
      }
    },
    {
      "cell_type": "markdown",
      "source": [
        "La primera tarea consiste en importar correctamente el conjunto de datos. Debido a cuestiones de protección de datos no podemos disponibilizar un dataset propio para la prueba, es por eso que hemos elegido un dataset publico, con diferentes fuentes de documentos de identificación que serán de utilidad para el desarrollo de esta prueba. De todo el dataset utilice las carpetas **aadhar, driver license, pan, passport y voter**\n",
        "\n",
        "El conjunto de datos [**id-Dataset** ](https://www.kaggle.com/datasets/omrastogi/identity-card-dataset?resource=download)contiene variedad de imágenes de documentos de identidad, algunas a color y ajustadas o recortadas al tamaño del documento, otras a blanco y negro y sin definición precisa de los bordes del documento, y otras con todo el fondo.\n",
        "haga una seleccion de las imagenes que va a utilizar para el entrenamiento del modelo, y explique el porque?"
      ],
      "metadata": {
        "id": "lDYIG7_aoX8o"
      }
    },
    {
      "cell_type": "code",
      "execution_count": null,
      "metadata": {
        "id": "YTPOahm8mCw0"
      },
      "outputs": [],
      "source": [
        "# escriba aqui el código"
      ]
    },
    {
      "cell_type": "code",
      "source": [
        "#@title Escriba aqui su explicación:\n",
        "\n",
        "Respuesta = '' #@param {type:\"string\"}"
      ],
      "metadata": {
        "cellView": "form",
        "id": "NM9_MNbMGfcQ"
      },
      "execution_count": 3,
      "outputs": []
    },
    {
      "cell_type": "markdown",
      "source": [
        "# 2. Modelo AI"
      ],
      "metadata": {
        "id": "bvEhC7p9tx5V"
      }
    },
    {
      "cell_type": "markdown",
      "source": [
        "La parte más importante de este reto es demostrar tus capacidades para construir un modelo de IA basado en procesamiento de imágenes y utilizarlo para lograr identificación de documentos.\n",
        "Nota importante: asegúrate de comentar todas las partes de los algoritmos/funciones que vayas a utilizar que sean relevantes.\n",
        "Además, incluya todo el material fuente que haya utilizado en un comentario encima de la función/algoritmo.\n",
        "Puede utilizar cualquier framework o herramienta preentrenada para alcanzar el objetivo. O puede diseñar su própia arquietectura. El resultado al final debe ser el mismo, dada una imágen de un documento de entrada lograr identificarlo y recortarlo."
      ],
      "metadata": {
        "id": "Q2jEfYuMut2G"
      }
    },
    {
      "cell_type": "code",
      "source": [
        "#Escriba su codigo aqui"
      ],
      "metadata": {
        "id": "RrQvYMx2tq1x"
      },
      "execution_count": null,
      "outputs": []
    },
    {
      "cell_type": "markdown",
      "source": [
        "Hora de probar el modelo, realice un test y grafique la imágen de entrada y el resultado obtenido"
      ],
      "metadata": {
        "id": "kRttBDXrwRN2"
      }
    },
    {
      "cell_type": "code",
      "source": [
        "#Escriba su codigo aqui"
      ],
      "metadata": {
        "id": "Qd8Qlbm6wQYQ"
      },
      "execution_count": null,
      "outputs": []
    }
  ]
}